{
 "cells": [
  {
   "cell_type": "code",
   "execution_count": null,
   "id": "2f46aab1",
   "metadata": {},
   "outputs": [],
   "source": [
    "import sys\n",
    "sys.path.append('../src')\n",
    "\n",
    "import numpy as np\n",
    "import matplotlib.pyplot as plt\n",
    "from my_packages.lesCsv import TidsseriePlotter\n",
    "\n",
    "# Kontrollpanel\n",
    "\n",
    "#Valg av csv filer: temperatur.csv, Vannføring.csv\n",
    "csvfilen = 'Vannføring.csv'\n",
    "Periode = 'år'\n",
    "Navn ='Vannføring'\n",
    "Enhet = 'L/s'\n",
    "#For å gjøre om enhet til noe annet\n",
    "konverteringsfaktor = 1000\n",
    "\n",
    "#True eller False (På eller av): Slår av eller på median og gjennomsnittsverdi (Mean)\n",
    "Median = True\n",
    "Mean = True\n",
    "\n",
    "#Ekstremalpunkter, av eller på\n",
    "MAX = True\n",
    "MIN = True \n",
    "\n",
    "\n",
    "#Kode\n",
    "temp_data = TidsseriePlotter('../data/'+csvfilen, enhet = Enhet, periode = Periode, visningsnavn = Navn, konvertering = konverteringsfaktor)\n",
    "temp_data.vis_graf(median=Median, mean=Mean, maximum = MAX, minimum = MIN)"
   ]
  }
 ],
 "metadata": {
  "language_info": {
   "name": "python"
  }
 },
 "nbformat": 4,
 "nbformat_minor": 5
}
